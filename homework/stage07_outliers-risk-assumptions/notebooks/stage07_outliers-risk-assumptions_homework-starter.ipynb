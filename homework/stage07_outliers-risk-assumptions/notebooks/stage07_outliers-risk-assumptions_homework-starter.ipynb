{
 "cells": [
  {
   "cell_type": "markdown",
   "id": "3848df1c",
   "metadata": {},
   "source": [
    "# Setup: Generate Sample Dataset\n",
    "\n",
    "This cell creates the required folder structure (`data/raw/` and `data/processed/`) relative to the notebook, and generates the sample CSV dataset with missing values. \n",
    "This ensures the dataset is ready for cleaning functions and saves it to `data/raw/outliers_homework.csv`."
   ]
  },
  {
   "cell_type": "code",
   "execution_count": 1,
   "id": "6c50b376",
   "metadata": {},
   "outputs": [
    {
     "name": "stdout",
     "output_type": "stream",
     "text": [
      "Synthetic dataset with two columns created and saved to ../data/raw\\outliers_homework.csv\n"
     ]
    }
   ],
   "source": [
    "import os\n",
    "import numpy as np\n",
    "import pandas as pd\n",
    "\n",
    "os.chdir(r\"C:\\Users\\Yvaine\\bootcamp_Rui_Han\\homework\\stage07_outliers-risk-assumptions\")\n",
    "\n",
    "# Define folder paths relative to this notebook\n",
    "raw_dir = '../data/raw'\n",
    "processed_dir = '../data/processed'\n",
    "\n",
    "# Create folders if they don't exist\n",
    "os.makedirs(raw_dir, exist_ok=True)\n",
    "os.makedirs(processed_dir, exist_ok=True)\n",
    "\n",
    "# Generate business day dates\n",
    "dates = pd.date_range(start=\"2022-01-03\", end=\"2022-06-10\", freq=\"B\")\n",
    "\n",
    "# Fixed random seed for reproducibility\n",
    "np.random.seed(17)\n",
    "\n",
    "# Column 1: daily_return ~ N(0, 0.01)\n",
    "returns = np.random.normal(0, 0.01, size=len(dates))\n",
    "mask_pre_may = dates < \"2022-05-01\"\n",
    "returns[mask_pre_may] -= 0.0015  \n",
    "\n",
    "# Inject \"shock\" values\n",
    "shock_values = {\n",
    "    \"2022-05-02\": 0.1748425237194541,\n",
    "    \"2022-05-03\": -0.16825801732486943,\n",
    "    \"2022-05-06\": -0.19667220757153227,\n",
    "    \"2022-05-09\": 0.21240223590614747,\n",
    "    \"2022-05-12\": -0.178729287231294\n",
    "}\n",
    "for d, v in shock_values.items():\n",
    "    idx = np.where(dates == pd.to_datetime(d))[0][0]\n",
    "    returns[idx] = v\n",
    "\n",
    "# Column 2: daily_return_2, correlated with daily_return + small noise\n",
    "daily_return_2 = returns * 0.6 + np.random.normal(0, 0.005, size=len(dates))\n",
    "\n",
    "# Create DataFrame with two numeric columns\n",
    "df = pd.DataFrame({\n",
    "    \"date\": dates,\n",
    "    \"daily_return\": returns,\n",
    "    \"daily_return_2\": daily_return_2\n",
    "})\n",
    "\n",
    "# Save to CSV in raw data folder\n",
    "csv_path = os.path.join(raw_dir, 'outliers_homework.csv')\n",
    "if not os.path.exists(csv_path):\n",
    "    df.to_csv(csv_path, index=False)\n",
    "    print(f'Synthetic dataset with two columns created and saved to {csv_path}')\n",
    "else:\n",
    "    print(f'File already exists at {csv_path}. Skipping CSV creation to avoid overwrite.')"
   ]
  },
  {
   "cell_type": "markdown",
   "id": "8c9fa0e4",
   "metadata": {},
   "source": [
    "# Stage 7 Homework — Outliers + Risk Assumptions\n",
    "In this assignment you will implement outlier detection/handling and run a simple sensitivity analysis.\n",
    "\n",
    "**Chain:** In the lecture, we learned detection (IQR, Z-score), options for handling (remove/winsorize), and sensitivity testing. Now, you will adapt those methods to a provided dataset and document the risks and assumptions behind your choices."
   ]
  },
  {
   "cell_type": "code",
   "execution_count": 2,
   "id": "9f9ba32f",
   "metadata": {},
   "outputs": [],
   "source": [
    "# Setup\n",
    "import numpy as np\n",
    "import pandas as pd\n",
    "import matplotlib.pyplot as plt\n",
    "from pathlib import Path\n",
    "from sklearn.linear_model import LinearRegression\n",
    "from sklearn.metrics import mean_absolute_error, r2_score\n",
    "np.random.seed(17)"
   ]
  },
  {
   "cell_type": "markdown",
   "id": "a051f5e0",
   "metadata": {},
   "source": [
    "## Load Data (provided or synthetic fallback)"
   ]
  },
  {
   "cell_type": "code",
   "execution_count": 4,
   "id": "2bd1d35d",
   "metadata": {},
   "outputs": [
    {
     "name": "stdout",
     "output_type": "stream",
     "text": [
      "loaded successfully\n"
     ]
    },
    {
     "data": {
      "text/html": [
       "<div>\n",
       "<style scoped>\n",
       "    .dataframe tbody tr th:only-of-type {\n",
       "        vertical-align: middle;\n",
       "    }\n",
       "\n",
       "    .dataframe tbody tr th {\n",
       "        vertical-align: top;\n",
       "    }\n",
       "\n",
       "    .dataframe thead th {\n",
       "        text-align: right;\n",
       "    }\n",
       "</style>\n",
       "<table border=\"1\" class=\"dataframe\">\n",
       "  <thead>\n",
       "    <tr style=\"text-align: right;\">\n",
       "      <th></th>\n",
       "      <th>date</th>\n",
       "      <th>daily_return</th>\n",
       "      <th>daily_return_2</th>\n",
       "    </tr>\n",
       "  </thead>\n",
       "  <tbody>\n",
       "    <tr>\n",
       "      <th>0</th>\n",
       "      <td>2022-01-03</td>\n",
       "      <td>0.001263</td>\n",
       "      <td>0.003834</td>\n",
       "    </tr>\n",
       "    <tr>\n",
       "      <th>1</th>\n",
       "      <td>2022-01-04</td>\n",
       "      <td>-0.020046</td>\n",
       "      <td>-0.009506</td>\n",
       "    </tr>\n",
       "    <tr>\n",
       "      <th>2</th>\n",
       "      <td>2022-01-05</td>\n",
       "      <td>0.004739</td>\n",
       "      <td>-0.000535</td>\n",
       "    </tr>\n",
       "    <tr>\n",
       "      <th>3</th>\n",
       "      <td>2022-01-06</td>\n",
       "      <td>0.009953</td>\n",
       "      <td>0.012539</td>\n",
       "    </tr>\n",
       "    <tr>\n",
       "      <th>4</th>\n",
       "      <td>2022-01-07</td>\n",
       "      <td>0.008872</td>\n",
       "      <td>0.009840</td>\n",
       "    </tr>\n",
       "  </tbody>\n",
       "</table>\n",
       "</div>"
      ],
      "text/plain": [
       "         date  daily_return  daily_return_2\n",
       "0  2022-01-03      0.001263        0.003834\n",
       "1  2022-01-04     -0.020046       -0.009506\n",
       "2  2022-01-05      0.004739       -0.000535\n",
       "3  2022-01-06      0.009953        0.012539\n",
       "4  2022-01-07      0.008872        0.009840"
      ]
     },
     "execution_count": 4,
     "metadata": {},
     "output_type": "execute_result"
    }
   ],
   "source": [
    "data_path = Path('data/raw/outliers_homework.csv')\n",
    "if data_path.exists():\n",
    "    df = pd.read_csv(data_path)\n",
    "    print(\"loaded successfully\")\n",
    "else:\n",
    "    # Synthetic fallback: linear trend with noise and a few extremes\n",
    "    x = np.linspace(0, 10, 200)\n",
    "    y = 2.2 * x + 1 + np.random.normal(0, 1.2, size=x.size)\n",
    "    y[10] += 15; y[120] -= 13; y[160] += 18\n",
    "    df = pd.DataFrame({'x': x, 'y': y})\n",
    "df.head()"
   ]
  },
  {
   "cell_type": "markdown",
   "id": "343f9409",
   "metadata": {},
   "source": [
    "## TODO: Implement Outlier Functions (required)"
   ]
  },
  {
   "cell_type": "code",
   "execution_count": 5,
   "id": "b50e7cc3",
   "metadata": {
    "tags": [
     "grade_required"
    ]
   },
   "outputs": [],
   "source": [
    "def detect_outliers_iqr(series: pd.Series, k: float = 1.5) -> pd.Series:\n",
    "    \"\"\"Return boolean mask for IQR-based outliers.\n",
    "    Assumptions: distribution reasonably summarized by quartiles; k controls strictness.\n",
    "    \"\"\"\n",
    "    q1 = series.quantile(0.25)\n",
    "    q3 = series.quantile(0.75)\n",
    "    iqr = q3 - q1\n",
    "    lower = q1 - k * iqr\n",
    "    upper = q3 + k * iqr\n",
    "    return (series < lower) | (series > upper)\n",
    "\n",
    "def detect_outliers_zscore(series: pd.Series, threshold: float = 3.0) -> pd.Series:\n",
    "    \"\"\"Return boolean mask for Z-score outliers where |z| > threshold.\n",
    "    Assumptions: roughly normal distribution; sensitive to heavy tails.\n",
    "    \"\"\"\n",
    "    mu = series.mean()\n",
    "    sigma = series.std(ddof=0)\n",
    "    z = (series - mu) / (sigma if sigma != 0 else 1.0)\n",
    "    return z.abs() > threshold"
   ]
  },
  {
   "cell_type": "markdown",
   "id": "13be947c",
   "metadata": {},
   "source": [
    "*(Stretch)* Implement winsorizing (optional)."
   ]
  },
  {
   "cell_type": "code",
   "execution_count": 6,
   "id": "cb2d761a",
   "metadata": {
    "tags": [
     "stretch"
    ]
   },
   "outputs": [],
   "source": [
    "def winsorize_series(series: pd.Series, lower: float = 0.05, upper: float = 0.95) -> pd.Series:\n",
    "    lo = series.quantile(lower)\n",
    "    hi = series.quantile(upper)\n",
    "    return series.clip(lower=lo, upper=hi)"
   ]
  },
  {
   "cell_type": "markdown",
   "id": "873aa80d",
   "metadata": {},
   "source": [
    "## Apply Detection and Create Flags (choose a numeric column)"
   ]
  },
  {
   "cell_type": "code",
   "execution_count": 12,
   "id": "05dccc9e",
   "metadata": {
    "tags": [
     "grade_required"
    ]
   },
   "outputs": [
    {
     "data": {
      "text/plain": [
       "outlier_iqr1    0.078261\n",
       "outlier_z1      0.043478\n",
       "outlier_iqr2    0.060870\n",
       "outlier_z2      0.043478\n",
       "dtype: float64"
      ]
     },
     "execution_count": 12,
     "metadata": {},
     "output_type": "execute_result"
    }
   ],
   "source": [
    "required_cols = ['daily_return', 'daily_return2']\n",
    "if set(required_cols).issubset(df.columns):\n",
    "    target_col1, target_col2 = required_cols\n",
    "else:\n",
    "    target_col1, target_col2 = df.select_dtypes(include=['number']).columns[:2]\n",
    "df['outlier_iqr1'] = detect_outliers_iqr(df[target_col1])\n",
    "df['outlier_iqr2'] = detect_outliers_iqr(df[target_col2])\n",
    "df['outlier_z1'] = detect_outliers_zscore(df[target_col1], threshold=3.0)\n",
    "df['outlier_z2'] = detect_outliers_zscore(df[target_col2], threshold=3.0)\n",
    "df[['outlier_iqr1', 'outlier_z1','outlier_iqr2', 'outlier_z2']].mean()  # fraction flagged"
   ]
  },
  {
   "cell_type": "markdown",
   "id": "15cc7833",
   "metadata": {},
   "source": [
    "### Visual Checks (boxplot / histogram)"
   ]
  },
  {
   "cell_type": "code",
   "execution_count": 13,
   "id": "ea9d50ae",
   "metadata": {},
   "outputs": [
    {
     "data": {
      "image/png": "[encoded data removed]",
      "text/plain": [
       "<Figure size 640x480 with 1 Axes>"
      ]
     },
     "metadata": {},
     "output_type": "display_data"
    },
    {
     "data": {
      "image/png": "[encoded data removed]",
      "text/plain": [
       "<Figure size 640x480 with 1 Axes>"
      ]
     },
     "metadata": {},
     "output_type": "display_data"
    },
    {
     "data": {
      "image/png": "[encoded data removed]",
      "text/plain": [
       "<Figure size 640x480 with 1 Axes>"
      ]
     },
     "metadata": {},
     "output_type": "display_data"
    },
    {
     "data": {
      "image/png": "[encoded data removed]",
      "text/plain": [
       "<Figure size 640x480 with 1 Axes>"
      ]
     },
     "metadata": {},
     "output_type": "display_data"
    }
   ],
   "source": [
    "plt.figure()\n",
    "plt.boxplot(df[target_col1])\n",
    "plt.title(f'Boxplot: {target_col1}')\n",
    "plt.show()\n",
    "\n",
    "plt.figure()\n",
    "plt.boxplot(df[target_col2])\n",
    "plt.title(f'Boxplot: {target_col2}')\n",
    "plt.show()\n",
    "\n",
    "plt.figure()\n",
    "plt.hist(df[target_col1], bins=30)\n",
    "plt.title(f'Histogram: {target_col1}')\n",
    "plt.show()\n",
    "\n",
    "plt.figure()\n",
    "plt.hist(df[target_col2], bins=30)\n",
    "plt.title(f'Histogram: {target_col2}')\n",
    "plt.show()"
   ]
  },
  {
   "cell_type": "markdown",
   "id": "4b5e2e24",
   "metadata": {},
   "source": [
    "## Sensitivity Analysis\n",
    "Pick one: summary stats or simple linear regression comparing **all vs. filtered** (and optional winsorized)."
   ]
  },
  {
   "cell_type": "code",
   "execution_count": 15,
   "id": "f3496ef2",
   "metadata": {
    "tags": [
     "grade_required"
    ]
   },
   "outputs": [
    {
     "data": {
      "text/html": [
       "<div>\n",
       "<style scoped>\n",
       "    .dataframe tbody tr th:only-of-type {\n",
       "        vertical-align: middle;\n",
       "    }\n",
       "\n",
       "    .dataframe tbody tr th {\n",
       "        vertical-align: top;\n",
       "    }\n",
       "\n",
       "    .dataframe thead th {\n",
       "        text-align: right;\n",
       "    }\n",
       "</style>\n",
       "<table border=\"1\" class=\"dataframe\">\n",
       "  <thead>\n",
       "    <tr style=\"text-align: right;\">\n",
       "      <th></th>\n",
       "      <th>all</th>\n",
       "      <th>filtered_iqr</th>\n",
       "      <th>winsorized</th>\n",
       "    </tr>\n",
       "  </thead>\n",
       "  <tbody>\n",
       "    <tr>\n",
       "      <th>mean</th>\n",
       "      <td>-0.000668</td>\n",
       "      <td>-0.000098</td>\n",
       "      <td>-0.000181</td>\n",
       "    </tr>\n",
       "    <tr>\n",
       "      <th>median</th>\n",
       "      <td>-0.000174</td>\n",
       "      <td>-0.000173</td>\n",
       "      <td>-0.000174</td>\n",
       "    </tr>\n",
       "    <tr>\n",
       "      <th>std</th>\n",
       "      <td>0.025068</td>\n",
       "      <td>0.007744</td>\n",
       "      <td>0.008312</td>\n",
       "    </tr>\n",
       "  </tbody>\n",
       "</table>\n",
       "</div>"
      ],
      "text/plain": [
       "             all  filtered_iqr  winsorized\n",
       "mean   -0.000668     -0.000098   -0.000181\n",
       "median -0.000174     -0.000173   -0.000174\n",
       "std     0.025068      0.007744    0.008312"
      ]
     },
     "execution_count": 15,
     "metadata": {},
     "output_type": "execute_result"
    }
   ],
   "source": [
    "# Option A: Summary stats\n",
    "summ_all2 = df[target_col2].describe()[['mean', '50%', 'std']].rename({'50%': 'median'})\n",
    "summ_filtered2 = df.loc[~df['outlier_iqr2'], target_col2].describe()[['mean', '50%', 'std']].rename({'50%': 'median'})\n",
    "summ_w2 = None\n",
    "if 'winsorize_series' in globals():\n",
    "    w2 = winsorize_series(df[target_col2])\n",
    "    summ_w2 = w2.describe()[['mean', '50%', 'std']].rename({'50%': 'median'})\n",
    "\n",
    "comp2 = pd.concat(\n",
    "    {\n",
    "        'all': summ_all2,\n",
    "        'filtered_iqr': summ_filtered2,\n",
    "        **({'winsorized': summ_w2} if summ_w2 is not None else {})\n",
    "    }, axis=1\n",
    ")\n",
    "comp2"
   ]
  },
  {
   "cell_type": "code",
   "execution_count": 20,
   "id": "9a501f23",
   "metadata": {
    "tags": [
     "grade_required"
    ]
   },
   "outputs": [
    {
     "name": "stdout",
     "output_type": "stream",
     "text": [
      "               slope  intercept        r2       mae\n",
      "all         0.605869   0.000201  0.961859  0.003951\n",
      "filtered_z  0.630315  -0.000088  0.679331  0.003848\n"
     ]
    }
   ],
   "source": [
    "# Option B: Simple regression (if x present)\n",
    "if 'daily_return' in df.columns:\n",
    "    X_all = df[['daily_return']].to_numpy(); y_all = df[target_col2].to_numpy()\n",
    "    X_filtered = df.loc[~df['outlier_z1'], ['daily_return']].to_numpy(); y_filtered = df.loc[~df['outlier_z2'], target_col2].to_numpy()\n",
    "\n",
    "    model_all = LinearRegression().fit(X_all, y_all)\n",
    "    model_flt = LinearRegression().fit(X_filtered, y_filtered)\n",
    "\n",
    "    mae_all = mean_absolute_error(y_all, model_all.predict(X_all))\n",
    "    mae_flt = mean_absolute_error(y_filtered, model_flt.predict(X_filtered))\n",
    "\n",
    "    results = pd.DataFrame({\n",
    "        'slope': [model_all.coef_[0], model_flt.coef_[0]],\n",
    "        'intercept': [model_all.intercept_, model_flt.intercept_],\n",
    "        'r2': [model_all.score(X_all, y_all), model_flt.score(X_filtered, y_filtered)],\n",
    "        'mae': [mae_all, mae_flt]\n",
    "    }, index=['all', 'filtered_z'])\n",
    "    print(results)\n",
    "else:\n",
    "    results = None\n",
    "    print(\"No 'daily_return' column; skip regression or engineer features.\")"
   ]
  },
  {
   "cell_type": "code",
   "execution_count": 21,
   "id": "6b3ff7c3-f77a-45e9-9c09-dac712541972",
   "metadata": {},
   "outputs": [
    {
     "data": {
      "image/png": "[encoded data removed]",
      "text/plain": [
       "<Figure size 600x400 with 1 Axes>"
      ]
     },
     "metadata": {},
     "output_type": "display_data"
    }
   ],
   "source": [
    "import matplotlib.pyplot as plt\n",
    "\n",
    "if 'daily_return' in df.columns and results is not None:\n",
    "    fig, ax = plt.subplots(figsize=(6, 4))\n",
    "\n",
    "    x_col = 'daily_return'\n",
    "    y_col = target_col2\n",
    "\n",
    "    is_outlier = df['outlier_z1'] | df['outlier_z2']  \n",
    "    ax.scatter(df.loc[~is_outlier, x_col],\n",
    "               df.loc[~is_outlier, y_col],\n",
    "               c='tab:blue', s=15, label='Normal')\n",
    "\n",
    "    ax.scatter(df.loc[is_outlier, x_col],\n",
    "               df.loc[is_outlier, y_col],\n",
    "               c='tab:red', s=15, label='Outlier')\n",
    "\n",
    "\n",
    "    x_line = np.linspace(df[x_col].min(), df[x_col].max(), 300).reshape(-1, 1)\n",
    "    y_all_pred   = model_all.predict(x_line)\n",
    "    y_flt_pred   = model_flt.predict(x_line)\n",
    "\n",
    "    ax.plot(x_line, y_all_pred,   color='black',  lw=2, label='All data')\n",
    "    ax.plot(x_line, y_flt_pred,   color='green', lw=2, label='Filtered (z-score)')\n",
    "\n",
    "\n",
    "    ax.set_xlabel(x_col)\n",
    "    ax.set_ylabel(y_col)\n",
    "    ax.set_title('Regression: all vs filtered')\n",
    "    ax.legend()\n",
    "    plt.tight_layout()\n",
    "    plt.show()"
   ]
  },
  {
   "cell_type": "markdown",
   "id": "11cb6e7d",
   "metadata": {},
   "source": [
    "### Reflection (≤ 1 page)\n",
    "- Methods and thresholds used (and why)\n",
    "- Assumptions behind choices\n",
    "- Observed impact on results\n",
    "- Risks if assumptions are wrong (e.g., discarding true events)"
   ]
  },
  {
   "cell_type": "markdown",
   "id": "90f2766d",
   "metadata": {},
   "source": [
    "### Outlier handling strategy  \n",
    "#### • Methods & thresholds  \n",
    "  – IQR(for daily_return2): flag points outside 1.5×IQR from Q1/Q3; chosen because quartiles are robust to mild skew and 1.5 is the conventional balance between sensitivity and false alarms.  \n",
    "  – Z-score(for daily_return1): flag |z|>3; assumes approximate normality and offers a symmetric, scale-independent rule that roughly corresponds to 3-sigma events.  \n",
    "  – Winsorization: clip extreme 5 % tails (5th–95th percentile) to reduce leverage without full deletion; keeps sample size intact for small samples.  \n",
    "\n",
    "#### • Underlying assumptions  \n",
    "  – Daily returns are roughly unimodal and not extremely heavy-tailed; quartiles therefore capture the core dispersion.  \n",
    "  – For z-scores, the mean and standard deviation are meaningful location/scale measures (i.e., no severe skew or jumps).  \n",
    "  – Outliers are measurement errors or market micro-structure noise rather than legitimate but rare price shocks.  \n",
    "\n",
    "#### • Observed impact  \n",
    "  – Outlier fractions flagged: 4–7 % of observations per series.  \n",
    "  – Central moments shift moderately: after filtering, mean daily return2 moves closer to median, std drops. \n",
    "  – Regression slope steepens slightly when outliers are removed (z-filter), slope improves from 0.6 → 0.63, and MAE falls 0.0001, indicating that extreme points were disproportionately influencing the fit.  \n",
    "\n",
    "#### • Risks if assumptions fail  \n",
    "  – Heavy-tailed or regime-switching returns: both rules may misclassify genuine tail events (e.g., crash days) as noise, leading to downward-biased volatility estimates and over-optimistic regression coefficients.  \n",
    "  – Non-normal skew: z-score flags can become one-sided, discarding informative downside observations.  \n",
    "  – Structural breaks: post-filter samples may omit periods of stress, yielding models that under-estimate risk and fail out-of-sample."
   ]
  },
  {
   "cell_type": "code",
   "execution_count": null,
   "id": "68e66472-ce78-4cbb-ae7b-e22e532dbc11",
   "metadata": {},
   "outputs": [],
   "source": []
  }
 ],
 "metadata": {
  "kernelspec": {
   "display_name": "Python 3 (ipykernel)",
   "language": "python",
   "name": "python3"
  },
  "language_info": {
   "codemirror_mode": {
    "name": "ipython",
    "version": 3
   },
   "file_extension": ".py",
   "mimetype": "text/x-python",
   "name": "python",
   "nbconvert_exporter": "python",
   "pygments_lexer": "ipython3",
   "version": "3.10.18"
  }
 },
 "nbformat": 4,
 "nbformat_minor": 5
}
