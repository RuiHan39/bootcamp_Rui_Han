{
 "cells": [
  {
   "cell_type": "code",
   "execution_count": 1,
   "id": "7d589af7-5ee5-4cbb-a91d-a69a82f59036",
   "metadata": {},
   "outputs": [
    {
     "data": {
      "text/plain": [
       "WindowsPath('C:/Users/Yvaine/bootcamp_Rui_Han/homework/homework6/README.md')"
      ]
     },
     "execution_count": 1,
     "metadata": {},
     "output_type": "execute_result"
    }
   ],
   "source": [
    "import os, textwrap, pathlib\n",
    "\n",
    "os.chdir(r\"C:\\Users\\Yvaine\\bootcamp_Rui_Han\\homework\")\n",
    "REPO_NAME = \"homework6\" \n",
    "FOLDERS = [\"data\", \"notebooks\", \"src\"]\n",
    "\n",
    "base = pathlib.Path.cwd() / REPO_NAME\n",
    "base.mkdir(exist_ok=True)\n",
    "for f in FOLDERS:\n",
    "    (base / f).mkdir(parents=True, exist_ok=True)\n",
    "README_TEMPLATE = textwrap.dedent(\"\"\"\n",
    "## Cleaning Strategy\n",
    "\n",
    "1. **Fill gaps** – numeric NaNs → column median.  \n",
    "2. **Drop rows** – any remaining NaNs removed.  \n",
    "3. **Normalize** – Min-Max to [0, 1].\n",
    "\n",
    "Raw untouched in `data/raw/`; cleaned files saved in `data/processed/`.\"\"\")\n",
    "\n",
    "readme_path = base / \"README.md\"\n",
    "if not readme_path.exists():\n",
    "    readme_path.write_text(README_TEMPLATE, encoding=\"utf-8\")\n",
    "readme_path.resolve()"
   ]
  },
  {
   "cell_type": "code",
   "execution_count": null,
   "id": "ee72393d-a224-44a2-8a68-db5c377845ea",
   "metadata": {},
   "outputs": [],
   "source": []
  }
 ],
 "metadata": {
  "kernelspec": {
   "display_name": "bootcamp_env",
   "language": "python",
   "name": "bootcamp_env"
  },
  "language_info": {
   "codemirror_mode": {
    "name": "ipython",
    "version": 3
   },
   "file_extension": ".py",
   "mimetype": "text/x-python",
   "name": "python",
   "nbconvert_exporter": "python",
   "pygments_lexer": "ipython3",
   "version": "3.10.18"
  }
 },
 "nbformat": 4,
 "nbformat_minor": 5
}
