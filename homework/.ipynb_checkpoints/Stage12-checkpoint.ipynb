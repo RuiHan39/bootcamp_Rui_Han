{
 "cells": [
  {
   "cell_type": "code",
   "execution_count": null,
   "id": "a41eccf9-dc87-44da-8202-05fe44cb5238",
   "metadata": {},
   "outputs": [],
   "source": [
    "import os, textwrap, pathlib\n",
    "\n",
    "os.chdir(r\"C:\\Users\\Yvaine\\bootcamp_Rui_Han\\homework\")\n",
    "REPO_NAME = \"stage12_result_reporting\"\n",
    "FOLDERS = [\"data\", \"notebooks\", \"src\",\"deliverables\"]\n",
    "\n",
    "base = pathlib.Path.cwd() / REPO_NAME\n",
    "base.mkdir(exist_ok=True)\n",
    "for f in FOLDERS:\n",
    "    (base / f).mkdir(parents=True, exist_ok=True)\n",
    "README_TEMPLATE = textwrap.dedent(\"\"\"\n",
    "## Results Reporting\n",
    "\n",
    "This stage is about transforming technical results into a polished deliverable that clearly communicates insights, assumptions,\n",
    "risks, and sensitivity to stakeholders.\"\"\")\n",
    "\n",
    "readme_path = base / \"README.md\"\n",
    "if not readme_path.exists():\n",
    "    readme_path.write_text(README_TEMPLATE, encoding=\"utf-8\")\n",
    "readme_path.resolve()\n",
    "\n",
    "README_TEMPLATE2 = textwrap.dedent(\"\"\"\n",
    "## Chosen audience and rationale\n",
    "Why this format fits their needs\n",
    "\"\"\")\n"
   ]
  },
  {
   "cell_type": "code",
   "execution_count": 2,
   "id": "247bb5fa-94ab-4b4e-a271-ada217e95eb2",
   "metadata": {},
   "outputs": [
    {
     "data": {
      "text/plain": [
       "WindowsPath('C:/Users/Yvaine/bootcamp_Rui_Han/homework/stage12_result_reporting/deliverables/README.md')"
      ]
     },
     "execution_count": 2,
     "metadata": {},
     "output_type": "execute_result"
    }
   ],
   "source": [
    "readme_path2 = base / \"deliverables\" / \"README.md\"\n",
    "if not readme_path2.exists():\n",
    "    readme_path2.write_text(README_TEMPLATE2, encoding=\"utf-8\")\n",
    "readme_path2.resolve()"
   ]
  },
  {
   "cell_type": "code",
   "execution_count": null,
   "id": "f13847aa-18f6-4ac9-a5f7-616c3b1a850a",
   "metadata": {},
   "outputs": [],
   "source": []
  }
 ],
 "metadata": {
  "kernelspec": {
   "display_name": "bootcamp_env",
   "language": "python",
   "name": "bootcamp_env"
  },
  "language_info": {
   "codemirror_mode": {
    "name": "ipython",
    "version": 3
   },
   "file_extension": ".py",
   "mimetype": "text/x-python",
   "name": "python",
   "nbconvert_exporter": "python",
   "pygments_lexer": "ipython3",
   "version": "3.10.18"
  }
 },
 "nbformat": 4,
 "nbformat_minor": 5
}
