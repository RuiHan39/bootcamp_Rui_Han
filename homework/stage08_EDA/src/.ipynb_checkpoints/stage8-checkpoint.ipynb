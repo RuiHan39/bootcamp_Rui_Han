{
 "cells": [
  {
   "cell_type": "code",
   "execution_count": 2,
   "id": "1c7b4d3b-8fda-436d-8920-5cd6573344b6",
   "metadata": {},
   "outputs": [
    {
     "data": {
      "text/plain": [
       "WindowsPath('C:/Users/Yvaine/bootcamp_Rui_Han/homework/stage08_EDA/README.md')"
      ]
     },
     "execution_count": 2,
     "metadata": {},
     "output_type": "execute_result"
    }
   ],
   "source": [
    "import os, textwrap, pathlib\n",
    "\n",
    "os.chdir(r\"C:\\Users\\Yvaine\\bootcamp_Rui_Han\\homework\")\n",
    "REPO_NAME = \"stage08_EDA\" \n",
    "FOLDERS = [\"data\", \"notebooks\", \"src\"]\n",
    "\n",
    "base = pathlib.Path.cwd() / REPO_NAME\n",
    "base.mkdir(exist_ok=True)\n",
    "for f in FOLDERS:\n",
    "    (base / f).mkdir(parents=True, exist_ok=True)\n",
    "README_TEMPLATE = textwrap.dedent(\"\"\"\n",
    "## Exploratory Data Analysis\n",
    "\n",
    "This stage is about profiling and visualize datas.\"\"\")\n",
    "\n",
    "readme_path = base / \"README.md\"\n",
    "if not readme_path.exists():\n",
    "    readme_path.write_text(README_TEMPLATE, encoding=\"utf-8\")\n",
    "readme_path.resolve()"
   ]
  },
  {
   "cell_type": "code",
   "execution_count": null,
   "id": "59dd80d9-6258-42da-9bad-9b6940cba946",
   "metadata": {},
   "outputs": [],
   "source": []
  }
 ],
 "metadata": {
  "kernelspec": {
   "display_name": "bootcamp_env",
   "language": "python",
   "name": "bootcamp_env"
  },
  "language_info": {
   "codemirror_mode": {
    "name": "ipython",
    "version": 3
   },
   "file_extension": ".py",
   "mimetype": "text/x-python",
   "name": "python",
   "nbconvert_exporter": "python",
   "pygments_lexer": "ipython3",
   "version": "3.10.18"
  }
 },
 "nbformat": 4,
 "nbformat_minor": 5
}
