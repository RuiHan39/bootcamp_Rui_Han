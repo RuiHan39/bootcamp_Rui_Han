{
 "cells": [
  {
   "cell_type": "code",
   "execution_count": null,
   "id": "a41eccf9-dc87-44da-8202-05fe44cb5238",
   "metadata": {},
   "outputs": [],
   "source": [
    "import os, textwrap, pathlib\n",
    "\n",
    "os.chdir(r\"C:\\Users\\Yvaine\\bootcamp_Rui_Han\\homework\")\n",
    "REPO_NAME = \"stage12_result_reporting\"\n",
    "FOLDERS = [\"data\", \"notebooks\", \"src\"]\n",
    "\n",
    "base = pathlib.Path.cwd() / REPO_NAME\n",
    "base.mkdir(exist_ok=True)\n",
    "for f in FOLDERS:\n",
    "    (base / f).mkdir(parents=True, exist_ok=True)\n",
    "README_TEMPLATE = textwrap.dedent(\"\"\"\n",
    "## Results Reporting\n",
    "\n",
    "This stage is about comparing parametric vs bootstrap CIs, run scenario sensitivity, and present\n",
    "assumption-aware results with subgroup checks.\"\"\")\n",
    "\n",
    "readme_path = base / \"README.md\"\n",
    "if not readme_path.exists():\n",
    "    readme_path.write_text(README_TEMPLATE, encoding=\"utf-8\")\n",
    "readme_path.resolve()"
   ]
  }
 ],
 "metadata": {
  "kernelspec": {
   "display_name": "bootcamp_env",
   "language": "python",
   "name": "bootcamp_env"
  },
  "language_info": {
   "codemirror_mode": {
    "name": "ipython",
    "version": 3
   },
   "file_extension": ".py",
   "mimetype": "text/x-python",
   "name": "python",
   "nbconvert_exporter": "python",
   "pygments_lexer": "ipython3",
   "version": "3.10.18"
  }
 },
 "nbformat": 4,
 "nbformat_minor": 5
}
