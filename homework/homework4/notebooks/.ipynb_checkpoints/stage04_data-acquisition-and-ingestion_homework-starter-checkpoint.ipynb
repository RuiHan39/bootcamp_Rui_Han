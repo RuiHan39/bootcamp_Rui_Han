{
 "cells": [
  {
   "cell_type": "markdown",
   "id": "52262346",
   "metadata": {},
   "source": [
    "# Homework Starter — Stage 04: Data Acquisition and Ingestion\n",
    "Name: RuiHan\n",
    "Date: 08/21/2025\n",
    "\n",
    "## Objectives\n",
    "- API ingestion with secrets in `.env`\n",
    "- Scrape a permitted public table\n",
    "- Validate and save raw data to `data/raw/`"
   ]
  },
  {
   "cell_type": "code",
   "execution_count": 1,
   "id": "ed1b9f8e",
   "metadata": {},
   "outputs": [
    {
     "name": "stdout",
     "output_type": "stream",
     "text": [
      "ALPHAVANTAGE_API_KEY loaded? True\n"
     ]
    }
   ],
   "source": [
    "import os, pathlib, datetime as dt\n",
    "import requests\n",
    "import pandas as pd\n",
    "from bs4 import BeautifulSoup\n",
    "from dotenv import load_dotenv\n",
    "\n",
    "os.chdir(r\"C:\\Users\\Yvaine\\bootcamp_Rui_Han\\homework\\homework4\")\n",
    "RAW = pathlib.Path('data/raw'); RAW.mkdir(parents=True, exist_ok=True)\n",
    "load_dotenv(); print('ALPHAVANTAGE_API_KEY loaded?', bool(os.getenv('ALPHAVANTAGE_API_KEY')))"
   ]
  },
  {
   "cell_type": "markdown",
   "id": "a6e108e0",
   "metadata": {},
   "source": [
    "## Helpers (use or modify)"
   ]
  },
  {
   "cell_type": "code",
   "execution_count": 2,
   "id": "e5af21bb",
   "metadata": {},
   "outputs": [],
   "source": [
    "def ts():\n",
    "    return dt.datetime.now().strftime('%Y%m%d-%H%M%S')\n",
    "\n",
    "def save_csv(df: pd.DataFrame, prefix: str, **meta):\n",
    "    mid = '_'.join([f\"{k}-{v}\" for k,v in meta.items()])\n",
    "    path = RAW / f\"{prefix}_{mid}_{ts()}.csv\"\n",
    "    df.to_csv(path, index=False)\n",
    "    print('Saved', path)\n",
    "    return path\n",
    "\n",
    "def validate(df: pd.DataFrame, required):\n",
    "    missing = [c for c in required if c not in df.columns]\n",
    "    return {'missing': missing, 'shape': df.shape, 'na_total': int(df.isna().sum().sum())}"
   ]
  },
  {
   "cell_type": "markdown",
   "id": "c95e4cb3",
   "metadata": {},
   "source": [
    "## Part 1 — API Pull (Required)\n",
    "Choose an endpoint (e.g., Alpha Vantage or use `yfinance` fallback)."
   ]
  },
  {
   "cell_type": "code",
   "execution_count": null,
   "id": "24051768",
   "metadata": {},
   "outputs": [],
   "source": [
    "SYMBOL = 'AAPL'\n",
    "USE_ALPHA = bool(os.getenv('ALPHAVANTAGE_API_KEY'))\n",
    "if USE_ALPHA: #doesn't work\n",
    "    url = 'https://www.alphavantage.co/query'\n",
    "    params = {'function':'TIME_SERIES_DAILY_ADJUSTED','symbol':SYMBOL,'outputsize':'compact','apikey':os.getenv('ALPHAVANTAGE_API_KEY')}\n",
    "    r = requests.get(url, params=params, timeout=30)\n",
    "    r.raise_for_status()\n",
    "    js = r.json()\n",
    "    key = [k for k in js if 'Time Series' in k][0]\n",
    "    df_api = pd.DataFrame(js[key]).T.reset_index().rename(columns={'index':'date','5. adjusted close':'adj_close'})[['date','adj_close']]\n",
    "    df_api['date'] = pd.to_datetime(df_api['date']); df_api['adj_close'] = pd.to_numeric(df_api['adj_close'])\n",
    "else:\n",
    "    import yfinance as yf\n",
    "    df_api = yf.download(SYMBOL, period='3mo', interval='1d').reset_index()[['Date','Adj Close']]\n",
    "    df_api.columns = ['date','adj_close']\n",
    "\n",
    "#v_api = validate(df_api, ['date','adj_close']); v_api"
   ]
  },
  {
   "cell_type": "code",
   "execution_count": 3,
   "id": "6f72d0ee-bff7-4e77-8338-cc1ca284ef42",
   "metadata": {},
   "outputs": [
    {
     "name": "stderr",
     "output_type": "stream",
     "text": [
      "C:\\Users\\Yvaine\\AppData\\Local\\Temp\\ipykernel_22024\\3498881255.py:3: FutureWarning: YF.download() has changed argument auto_adjust default to True\n",
      "  df_api = yf.download(SYMBOL, period='3mo', interval='1d').reset_index()\n",
      "[*********************100%***********************]  1 of 1 completed\n"
     ]
    }
   ],
   "source": [
    "import yfinance as yf\n",
    "SYMBOL = 'AAPL'\n",
    "df_api = yf.download(SYMBOL, period='3mo', interval='1d').reset_index()\n",
    "#df_api.columns = ['date','adj_close']\n",
    "#v_api = validate(df_api, ['date','adj_close']); v_api"
   ]
  },
  {
   "cell_type": "code",
   "execution_count": 4,
   "id": "4cd3d74c-d9b2-4e75-97d2-558798cd3ab0",
   "metadata": {},
   "outputs": [
    {
     "data": {
      "text/plain": [
       "{'missing': [], 'shape': (63, 6), 'na_total': 0}"
      ]
     },
     "execution_count": 4,
     "metadata": {},
     "output_type": "execute_result"
    }
   ],
   "source": [
    "df_api.columns = ['date','close','high','low','open','volume']\n",
    "v_api = validate(df_api, ['date','close','high','low','open','volume']); v_api"
   ]
  },
  {
   "cell_type": "code",
   "execution_count": 5,
   "id": "3556f5be",
   "metadata": {},
   "outputs": [
    {
     "name": "stdout",
     "output_type": "stream",
     "text": [
      "C:\\Users\\Yvaine\\bootcamp_Rui_Han\\homework\\homework4\n",
      "Saved data\\raw\\api_source-yfinance_symbol-AAPL_20250821-091856.csv\n"
     ]
    }
   ],
   "source": [
    "print(os.getcwd())\n",
    "_ = save_csv(df_api.sort_values('date'), prefix='api', source='yfinance', symbol=SYMBOL)"
   ]
  },
  {
   "cell_type": "markdown",
   "id": "fa8f2e47",
   "metadata": {},
   "source": [
    "## Part 2 — Scrape a Public Table (Required)\n",
    "Replace `SCRAPE_URL` with a permitted page containing a simple table."
   ]
  },
  {
   "cell_type": "code",
   "execution_count": 8,
   "id": "922c99a4",
   "metadata": {},
   "outputs": [
    {
     "data": {
      "text/plain": [
       "{'missing': [], 'shape': (503, 8), 'na_total': 0}"
      ]
     },
     "execution_count": 8,
     "metadata": {},
     "output_type": "execute_result"
    }
   ],
   "source": [
    "SCRAPE_URL = \"https://en.wikipedia.org/wiki/List_of_S%26P_500_companies\"\n",
    "headers = {'User-Agent': 'AFE-Homework/1.0'}\n",
    "\n",
    "try:\n",
    "    resp = requests.get(SCRAPE_URL, headers=headers, timeout=30)\n",
    "    resp.raise_for_status()\n",
    "    soup = BeautifulSoup(resp.text, 'html.parser')\n",
    "\n",
    "    table = soup.find('table', {'id': 'constituents'})\n",
    "    if table is None:\n",
    "        raise ValueError('id=constituents table not found')\n",
    "\n",
    "    rows = [[c.get_text(strip=True)\n",
    "             for c in tr.find_all(['th', 'td'])]\n",
    "            for tr in table.find_all('tr')]\n",
    "    header, *data = [r for r in rows if r]\n",
    "    df_scrape = pd.DataFrame(data, columns=header)\n",
    "\n",
    "except Exception as e:\n",
    "    print('Scrape failed, using inline demo table:', e)\n",
    "    html = ('<table><tr><th>Symbol</th><th>Security</th></tr>'\n",
    "            '<tr><td>AAA</td><td>Demo Corp</td></tr></table>')\n",
    "    soup = BeautifulSoup(html, 'html.parser')\n",
    "    rows = [[c.get_text(strip=True)\n",
    "             for c in tr.find_all(['th', 'td'])]\n",
    "            for tr in soup.find_all('tr')]\n",
    "    header, *data = [r for r in rows if r]\n",
    "    df_scrape = pd.DataFrame(data, columns=header)\n",
    "\n",
    "# 如有数值列，可继续类型转换\n",
    "if 'Price' in df_scrape.columns:\n",
    "    df_scrape['Price'] = pd.to_numeric(df_scrape['Price'], errors='coerce')\n",
    "\n",
    "v_scrape = validate(df_scrape, list(df_scrape.columns))\n",
    "v_scrape"
   ]
  },
  {
   "cell_type": "code",
   "execution_count": 11,
   "id": "5be00cd7",
   "metadata": {},
   "outputs": [
    {
     "name": "stdout",
     "output_type": "stream",
     "text": [
      "Saved data\\raw\\scrape_site-wikipedia_table-sp500_20250821-094101.csv\n"
     ]
    }
   ],
   "source": [
    "_ = save_csv(df_scrape, prefix='scrape', site='wikipedia', table='sp500')"
   ]
  },
  {
   "cell_type": "markdown",
   "id": "20bf61b1",
   "metadata": {},
   "source": [
    "## Documentation\n",
    "\n",
    "- **API Source:**\n",
    "\n",
    "!!doesn't work:\n",
    "https://www.alphavantage.co/query  \n",
    "Endpoint: `TIME_SERIES_DAILY_ADJUSTED`  \n",
    "Parameters: `function=TIME_SERIES_DAILY_ADJUSTED`, `symbol=<TICKER>`, `outputsize=compact`, `apikey=<ALPHA_KEY>`\n",
    "\n",
    "!!actually：  `yfinance.Ticker(\"AAPL\").history(period=\"1y\", interval=\"1d\")`  \n",
    "  (library call, no direct URL)\n",
    "\n",
    "- **Scrape Source:**  \n",
    "  https://en.wikipedia.org/wiki/List_of_S%26P_500_companies  \n",
    "  Table: first `<table id=\"constituents\">` (S&P 500 component stocks)\n",
    "\n",
    "- **Assumptions & risks:**  \n",
    "  - yfinance relies on unofficial Yahoo endpoints → endpoints or schema can change without notice.  \n",
    "  - Yahoo may throttle or block repeated requests; large batches risk HTTP 429.  \n",
    "  - Wikipedia DOM structure may change without notice; selector fragility on `id=\"constituents\"`.  \n",
    "  - `symbol` column assumed non-null and unique; future duplicates would break validation.\n",
    "\n",
    "- **Confirm `.env` is not committed.**  \n",
    "  ✅ `.env` listed in `.gitignore`; repository shows no committed secrets."
   ]
  }
 ],
 "metadata": {
  "kernelspec": {
   "display_name": "Python 3 (ipykernel)",
   "language": "python",
   "name": "python3"
  },
  "language_info": {
   "codemirror_mode": {
    "name": "ipython",
    "version": 3
   },
   "file_extension": ".py",
   "mimetype": "text/x-python",
   "name": "python",
   "nbconvert_exporter": "python",
   "pygments_lexer": "ipython3",
   "version": "3.10.18"
  }
 },
 "nbformat": 4,
 "nbformat_minor": 5
}
