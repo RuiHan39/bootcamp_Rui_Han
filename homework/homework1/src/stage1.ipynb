{
 "cells": [
  {
   "cell_type": "code",
   "execution_count": 7,
   "id": "432b0fb5-e62b-4717-8f40-3f2c5cace0cd",
   "metadata": {},
   "outputs": [
    {
     "data": {
      "text/plain": [
       "WindowsPath('C:/Users/Yvaine/bootcamp_Rui_Han/homework/homework1/README.md')"
      ]
     },
     "execution_count": 7,
     "metadata": {},
     "output_type": "execute_result"
    }
   ],
   "source": [
    "import os, textwrap, pathlib\n",
    "\n",
    "REPO_NAME = \"homework1\" \n",
    "FOLDERS = [\"data\", \"src\", \"notebooks\", \"docs\"]\n",
    "\n",
    "base = pathlib.Path.cwd() / REPO_NAME\n",
    "base.mkdir(exist_ok=True)\n",
    "for f in FOLDERS:\n",
    "    (base / f).mkdir(parents=True, exist_ok=True)\n",
    "\n",
    "README_TEMPLATE = textwrap.dedent(\"\"\"\n",
    "# Cross-Sell Feasibility: Auto Insurance → Medical Insurance\n",
    "**Stage:** Problem Framing & Scoping (Stage 01)\n",
    "\n",
    "## Problem Statement\n",
    "The company’s existing auto-insurance portfolio contains a large, engaged customer base whose demographic and behavioral traits align closely with prospects for medical coverage. Despite strong overlap, the attach rate of medical policies among auto customers remains low. The problem is to determine whether targeted cross-selling can convert a meaningful share of this base without degrading the core auto experience. Solving this would unlock incremental premium revenue, lower acquisition costs (versus cold leads), and strengthen customer loyalty through a unified protection bundle.\n",
    "\n",
    "\n",
    "## Stakeholder & User\n",
    "·Executive Sponsor (Chief Growth Officer): Sets financial targets, allocates budget, and signs off on go / no-go decisions.\n",
    "·Product Marketing Team: Consumes model outputs to design campaigns, creative assets, and channel mix.\n",
    "·Data Science & Analytics: Owns the predictive framework, monitors performance, and schedules retraining.\n",
    "·Legal & Compliance: Reviews feature sets and outreach scripts for regulatory adherence.\n",
    "·Customer-Facing Teams (call-center, mobile app, web): Receive real-time next-best-offer prompts to use during service interactions.\n",
    "\n",
    "## Useful Answer & Decision\n",
    "*Type: Predictive (propensity) and Prescriptive (uplift).\n",
    "*Metric: Incremental lift in medical-policy conversion rate relative to random targeting.\n",
    "*Decision: Which auto customers to include in cross-sell campaigns, via which channel, and with what offer.\n",
    "*Artifacts:\n",
    "·Nightly customer-level propensity and uplift scores.\n",
    "·Explainability summary highlighting the top drivers behind each score.\n",
    "·Campaign playbook with recommended segments, messaging, and contact rules.\n",
    "\n",
    "## Assumptions & Constraints\n",
    "·Historical auto and medical policy data exist and are linkable at customer level.\n",
    "·Marketing consent flags are available and respected.\n",
    "·Model must be interpretable enough for compliance review.\n",
    "·Runtime budget: nightly batch must complete within existing on-prem infrastructure.\n",
    "·No use of protected health data beyond explicitly allowed variables.\n",
    "\n",
    "## Known Unknowns / Risks\n",
    "·Class imbalance: Medical conversions are rare; will test resampling and cost-sensitive methods.\n",
    "·Temporal drift: Consumer attitudes toward medical coverage may shift; will track monthly.\n",
    "·Channel saturation: Over-contact could hurt auto retention; will cap touches per customer.\n",
    "·Regulatory changes: New privacy rules could restrict variable usage; will maintain fallback feature sets.\n",
    "\n",
    "## Lifecycle Mapping\n",
    "Goal → Stage → Deliverable\n",
    "-Define opportunity → Problem Framing & Scoping (Stage 01) → This scoping document\n",
    "\n",
    "## Repo Plan\n",
    "/data/, /src/, /notebooks/, /docs/ ; cadence for updates\n",
    "\"\"\")\n",
    "\n",
    "readme_path = base / \"README.md\"\n",
    "if not readme_path.exists():\n",
    "    readme_path.write_text(README_TEMPLATE, encoding=\"utf-8\")\n",
    "readme_path.resolve()"
   ]
  },
  {
   "cell_type": "code",
   "execution_count": 9,
   "id": "b7e8be65-6e05-4328-90ac-683e8572a899",
   "metadata": {},
   "outputs": [
    {
     "data": {
      "text/plain": [
       "WindowsPath('C:/Users/Yvaine/bootcamp_Rui_Han/homework/homework1/docs/ STAKEHOLDER_MEMO.md')"
      ]
     },
     "execution_count": 9,
     "metadata": {},
     "output_type": "execute_result"
    }
   ],
   "source": [
    "Stakeholder_Memo_TEMPLATE = textwrap.dedent(\"\"\"\n",
    "# Stakeholder Memo  \n",
    "**Subject:** Cross-Sell Feasibility – Auto to Medical Insurance  \n",
    "\n",
    "## Background  \n",
    "Our book of auto-insurance customers is large, loyal, and demographically aligned with private medical insurance. Yet fewer than one in ten auto policyholders currently hold a medical product, suggesting substantial untapped revenue. Rebalancing our outreach from broad-brush campaigns to precision targeting is now a Board-level priority.\n",
    "\n",
    "## Problem  \n",
    "How can we identify which auto-insurance customers are most likely to purchase medical coverage, and through which channel, so that we can reduce acquisition cost and increase lifetime value without eroding trust or triggering regulatory scrutiny?\n",
    "\n",
    "\n",
    "## Proposed Solution  \n",
    "- **Descriptive:** Exploratory visuals showing overlap of auto vs medical customer profiles by age, geography, payment behavior, claims history.  \n",
    "- **Predictive / Prescriptive:** Uplift model estimating incremental probability of medical purchase under a cross-sell treatment, with interpretable driver features.  \n",
    "- **Activation Layer:** API returning nightly scores + rule-based channel recommendations (email, SMS, agent call).\n",
    "\n",
    "\n",
    "## Data & Assumptions  \n",
    "- Historical auto and medical policy records linkable at customer level.  \n",
    "- Marketing consent flags and opt-in status available.  \n",
    "- Permitted variables only (no protected health data beyond allowed attributes).  \n",
    "- Forecast pipeline must complete on existing on-prem cluster (< 45 min nightly).  \n",
    "\n",
    "\n",
    "## Risks & Mitigations  \n",
    "\n",
    "| Risk | Impact | Mitigation |\n",
    "|------|--------|------------|\n",
    "| Class imbalance (rare conversions) | Model instability | Use uplift modeling + cost-sensitive loss; monitor weekly. |\n",
    "| Temporal drift (policy changes, seasonality) | Degraded lift | Schedule monthly retrain; monitor PSI. |\n",
    "| Over-contact causing auto churn | Brand damage | Cap touches per customer via governance rules. |\n",
    "| Regulatory scrutiny on variable usage | Launch delay | Pre-clear feature list with Legal; maintain interpretable model. |\n",
    "\n",
    "\n",
    "## Next Steps & Commitments  \n",
    "- **Product Marketing:** Finalize offer variants and contact rules by 25 Aug.  \n",
    "- **Compliance:** Complete variable whitelist review by 30 Aug.  \n",
    "- **Data Science:** Deliver v0 descriptive insights by 1 Sep, v1 uplift API by 15 Sep.\n",
    "\"\"\")\n",
    "\n",
    "Stakeholder_Memo_path = base /\"docs/ STAKEHOLDER_MEMO.md\"\n",
    "if not Stakeholder_Memo_path.exists():\n",
    "    Stakeholder_Memo_path.write_text(Stakeholder_Memo_TEMPLATE, encoding=\"utf-8\")\n",
    "Stakeholder_Memo_path.resolve()"
   ]
  },
  {
   "cell_type": "code",
   "execution_count": null,
   "id": "6b3c8146-5a46-4ade-9ca0-be512844dee6",
   "metadata": {},
   "outputs": [],
   "source": []
  }
 ],
 "metadata": {
  "kernelspec": {
   "display_name": "bootcamp_env",
   "language": "python",
   "name": "bootcamp_env"
  },
  "language_info": {
   "codemirror_mode": {
    "name": "ipython",
    "version": 3
   },
   "file_extension": ".py",
   "mimetype": "text/x-python",
   "name": "python",
   "nbconvert_exporter": "python",
   "pygments_lexer": "ipython3",
   "version": "3.10.18"
  }
 },
 "nbformat": 4,
 "nbformat_minor": 5
}
