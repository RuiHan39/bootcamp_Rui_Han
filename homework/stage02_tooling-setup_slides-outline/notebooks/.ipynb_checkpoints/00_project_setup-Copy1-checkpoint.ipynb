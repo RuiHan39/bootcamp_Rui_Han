{
 "cells": [
  {
   "cell_type": "markdown",
   "id": "ec10444a-5804-4bea-b6c8-434427ddfc44",
   "metadata": {},
   "source": [
    "# Environment & Config Check"
   ]
  },
  {
   "cell_type": "code",
   "execution_count": 6,
   "id": "6cd208eb-aaff-4427-9822-daeed6b89cd1",
   "metadata": {},
   "outputs": [
    {
     "name": "stdout",
     "output_type": "stream",
     "text": [
      ".env loaded (if present)\n"
     ]
    }
   ],
   "source": [
    "import sys, os\n",
    "from dotenv import load_dotenv\n",
    "from pathlib import Path\n",
    "load_dotenv()  # looks for a .env file in the current and parent directories\n",
    "print(\".env loaded (if present)\")"
   ]
  },
  {
   "cell_type": "code",
   "execution_count": 7,
   "id": "88903148-c149-4f39-bd4d-1e7cd324ae2f",
   "metadata": {},
   "outputs": [
    {
     "name": "stdout",
     "output_type": "stream",
     "text": [
      "PROJECT_ROOT: C:\\Users\\Yvaine\\bootcamp_Rui_Han\\homework\\homework2\\notebooks\n",
      "DATA_DIR: C:\\Users\\Yvaine\\bootcamp_Rui_Han\\homework\\homework2\\notebooks\\data\n",
      "API_KEY present: True\n",
      "DATA_DIR from env: ./data\n",
      "Ensured data directory exists.\n"
     ]
    }
   ],
   "source": [
    "from typing import Optional\n",
    "\n",
    "def get_key(name: str, default: Optional[str] = None) -> Optional[str]:\n",
    "    return os.getenv(name, default)\n",
    "\n",
    "PROJECT_ROOT = Path.cwd()\n",
    "DATA_DIR = PROJECT_ROOT / \"data\"\n",
    "print(\"PROJECT_ROOT:\", PROJECT_ROOT)\n",
    "print(\"DATA_DIR:\", DATA_DIR)\n",
    "api_key_present = get_key(\"API_KEY\") is not None\n",
    "data_dir_env = get_key(\"DATA_DIR\", str(DATA_DIR))\n",
    "print(\"API_KEY present:\", api_key_present)\n",
    "print(\"DATA_DIR from env:\", data_dir_env)\n",
    "\n",
    "# Ensure data directory exists (non-destructive)\n",
    "Path(data_dir_env).mkdir(parents=True, exist_ok=True)\n",
    "print(\"Ensured data directory exists.\")"
   ]
  },
  {
   "cell_type": "code",
   "execution_count": 10,
   "id": "8bd4265a-e91d-4f72-9d2f-ccd5798b8e79",
   "metadata": {},
   "outputs": [
    {
     "name": "stdout",
     "output_type": "stream",
     "text": [
      "Array: [1 2 3 4 5]\n",
      "Mean: 3.0\n",
      "Vectorized * 10: [10 20 30 40 50]\n"
     ]
    }
   ],
   "source": [
    "import numpy as np\n",
    "arr = np.array([1, 2, 3, 4, 5])\n",
    "print(\"Array:\", arr)\n",
    "print(\"Mean:\", arr.mean())\n",
    "print(\"Vectorized * 10:\", arr * 10)"
   ]
  },
  {
   "cell_type": "code",
   "execution_count": null,
   "id": "4443fac8-9869-41e2-87a4-a95f764390e6",
   "metadata": {},
   "outputs": [],
   "source": []
  }
 ],
 "metadata": {
  "kernelspec": {
   "display_name": "bootcamp_env",
   "language": "python",
   "name": "bootcamp_env"
  },
  "language_info": {
   "codemirror_mode": {
    "name": "ipython",
    "version": 3
   },
   "file_extension": ".py",
   "mimetype": "text/x-python",
   "name": "python",
   "nbconvert_exporter": "python",
   "pygments_lexer": "ipython3",
   "version": "3.10.18"
  }
 },
 "nbformat": 4,
 "nbformat_minor": 5
}
