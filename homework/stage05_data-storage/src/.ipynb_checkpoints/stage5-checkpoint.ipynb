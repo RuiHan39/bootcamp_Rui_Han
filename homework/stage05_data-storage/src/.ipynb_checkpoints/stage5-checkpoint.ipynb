{
 "cells": [
  {
   "cell_type": "code",
   "execution_count": 1,
   "id": "55a96f53-5011-4185-a862-6bdb0b787b4b",
   "metadata": {},
   "outputs": [
    {
     "data": {
      "text/plain": [
       "WindowsPath('C:/Users/Yvaine/bootcamp_Rui_Han/homework/homework5/README.md')"
      ]
     },
     "execution_count": 1,
     "metadata": {},
     "output_type": "execute_result"
    }
   ],
   "source": [
    "import os, textwrap, pathlib\n",
    "\n",
    "os.chdir(r\"C:\\Users\\Yvaine\\bootcamp_Rui_Han\\homework\")\n",
    "REPO_NAME = \"homework5\" \n",
    "FOLDERS = [\"data\", \"notebooks\", \"src\"]\n",
    "\n",
    "base = pathlib.Path.cwd() / REPO_NAME\n",
    "base.mkdir(exist_ok=True)\n",
    "for f in FOLDERS:\n",
    "    (base / f).mkdir(parents=True, exist_ok=True)\n",
    "README_TEMPLATE = textwrap.dedent(\"\"\"\n",
    "# Data Storage\n",
    "111\"\"\")\n",
    "\n",
    "readme_path = base / \"README.md\"\n",
    "if not readme_path.exists():\n",
    "    readme_path.write_text(README_TEMPLATE, encoding=\"utf-8\")\n",
    "readme_path.resolve()"
   ]
  },
  {
   "cell_type": "code",
   "execution_count": null,
   "id": "82760075-cbdd-40ea-8f60-dd1ef7c09d54",
   "metadata": {},
   "outputs": [],
   "source": []
  }
 ],
 "metadata": {
  "kernelspec": {
   "display_name": "bootcamp_env",
   "language": "python",
   "name": "bootcamp_env"
  },
  "language_info": {
   "codemirror_mode": {
    "name": "ipython",
    "version": 3
   },
   "file_extension": ".py",
   "mimetype": "text/x-python",
   "name": "python",
   "nbconvert_exporter": "python",
   "pygments_lexer": "ipython3",
   "version": "3.10.18"
  }
 },
 "nbformat": 4,
 "nbformat_minor": 5
}
